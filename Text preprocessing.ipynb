{
 "cells": [
  {
   "cell_type": "code",
   "execution_count": 7,
   "id": "603ad17f",
   "metadata": {},
   "outputs": [
    {
     "name": "stderr",
     "output_type": "stream",
     "text": [
      "[nltk_data] Downloading package punkt to\n",
      "[nltk_data]     C:\\Users\\Dell\\AppData\\Roaming\\nltk_data...\n",
      "[nltk_data]   Package punkt is already up-to-date!\n"
     ]
    }
   ],
   "source": [
    "import nltk\n",
    "from nltk.stem import PorterStemmer\n",
    "from nltk.corpus import stopwords\n",
    "import re\n",
    "nltk.download('punkt')\n",
    "stemmer=PorterStemmer()"
   ]
  },
  {
   "cell_type": "code",
   "execution_count": 8,
   "id": "0df54562",
   "metadata": {},
   "outputs": [],
   "source": [
    "corpus=\"\"\"The name Pakistan was coined by Choudhry Rahmat Ali, \n",
    "a Pakistan Movement activist, who in January 1933 first published \n",
    "it (originally as \"Pakstan\") in a pamphlet Now or Never, using it \n",
    "as an acronym.[24][25][26] Rahmat Ali explained: \"It is composed \n",
    "of letters taken from the names of all our homelands, Indian and \n",
    "Asian, Panjab, Afghania, Kashmir, Sindh, and Baluchistan.\" He added, \n",
    "\"Pakistan is both a Persian and Urdu word... It means the land of the \n",
    "Paks, the spiritually pure and clean.\"[27] Etymologists note that پاک \n",
    "pāk, is 'pure' in Persian and Pashto and the Persian suffix ـستان -stan \n",
    "means 'land' or 'place of'.[25]\n",
    "\n",
    "Rahmat Ali's concept of Pakistan only \n",
    "related to the northwestern area of the Indian \n",
    "subcontinent. He also proposed the name \"Banglastan\" \n",
    "for the Muslim areas of Bengal and \"Osmanistan\" for \n",
    "Hyderabad State, as well as a political federation between the three.[28]\n",
    "\n",
    "\n",
    "\n",
    "\"\"\""
   ]
  },
  {
   "cell_type": "code",
   "execution_count": 9,
   "id": "f385677d",
   "metadata": {},
   "outputs": [
    {
     "data": {
      "text/plain": [
       "['The name Pakistan was coined by Choudhry Rahmat Ali, \\na Pakistan Movement activist, who in January 1933 first published \\nit (originally as \"Pakstan\") in a pamphlet Now or Never, using it \\nas an acronym.',\n",
       " '[24][25][26] Rahmat Ali explained: \"It is composed \\nof letters taken from the names of all our homelands, Indian and \\nAsian, Panjab, Afghania, Kashmir, Sindh, and Baluchistan.\"',\n",
       " 'He added, \\n\"Pakistan is both a Persian and Urdu word...',\n",
       " 'It means the land of the \\nPaks, the spiritually pure and clean.',\n",
       " '\"[27] Etymologists note that پاک \\npāk, is \\'pure\\' in Persian and Pashto and the Persian suffix ـستان -stan \\nmeans \\'land\\' or \\'place of\\'.',\n",
       " \"[25]\\n\\nRahmat Ali's concept of Pakistan only \\nrelated to the northwestern area of the Indian \\nsubcontinent.\",\n",
       " 'He also proposed the name \"Banglastan\" \\nfor the Muslim areas of Bengal and \"Osmanistan\" for \\nHyderabad State, as well as a political federation between the three.',\n",
       " '[28]']"
      ]
     },
     "execution_count": 9,
     "metadata": {},
     "output_type": "execute_result"
    }
   ],
   "source": [
    "sentences=nltk.sent_tokenize(corpus)\n",
    "sentences"
   ]
  },
  {
   "cell_type": "code",
   "execution_count": 10,
   "id": "1bcf7612",
   "metadata": {},
   "outputs": [],
   "source": [
    "corpus=[]\n",
    "for i in range(len(sentences)):\n",
    "    review=re.sub(\"[^a-zA-Z]\",\" \",sentences[i])\n",
    "    review=review.lower()\n",
    "    corpus.append(review)"
   ]
  },
  {
   "cell_type": "code",
   "execution_count": 12,
   "id": "755ea119",
   "metadata": {},
   "outputs": [
    {
     "name": "stdout",
     "output_type": "stream",
     "text": [
      "name\n",
      "pakistan\n",
      "coin\n",
      "choudhri\n",
      "rahmat\n",
      "ali\n",
      "pakistan\n",
      "movement\n",
      "activist\n",
      "januari\n",
      "first\n",
      "publish\n",
      "origin\n",
      "pakstan\n",
      "pamphlet\n",
      "never\n",
      "use\n",
      "acronym\n",
      "rahmat\n",
      "ali\n",
      "explain\n",
      "compos\n",
      "letter\n",
      "taken\n",
      "name\n",
      "homeland\n",
      "indian\n",
      "asian\n",
      "panjab\n",
      "afghania\n",
      "kashmir\n",
      "sindh\n",
      "baluchistan\n",
      "ad\n",
      "pakistan\n",
      "persian\n",
      "urdu\n",
      "word\n",
      "mean\n",
      "land\n",
      "pak\n",
      "spiritu\n",
      "pure\n",
      "clean\n",
      "etymologist\n",
      "note\n",
      "p\n",
      "k\n",
      "pure\n",
      "persian\n",
      "pashto\n",
      "persian\n",
      "suffix\n",
      "stan\n",
      "mean\n",
      "land\n",
      "place\n",
      "rahmat\n",
      "ali\n",
      "concept\n",
      "pakistan\n",
      "relat\n",
      "northwestern\n",
      "area\n",
      "indian\n",
      "subcontin\n",
      "also\n",
      "propos\n",
      "name\n",
      "banglastan\n",
      "muslim\n",
      "area\n",
      "bengal\n",
      "osmanistan\n",
      "hyderabad\n",
      "state\n",
      "well\n",
      "polit\n",
      "feder\n",
      "three\n"
     ]
    }
   ],
   "source": [
    "for i in corpus:\n",
    "    words=nltk.word_tokenize(i)\n",
    "    for word in words :\n",
    "        if word not in set(stopwords.words('english')):\n",
    "            print(stemmer.stem(word))"
   ]
  },
  {
   "cell_type": "code",
   "execution_count": 15,
   "id": "ff7c095c",
   "metadata": {},
   "outputs": [],
   "source": [
    "from nltk.stem import WordNetLemmatizer\n",
    "lemmatizer=WordNetLemmatizer()"
   ]
  },
  {
   "cell_type": "code",
   "execution_count": 17,
   "id": "e8603272",
   "metadata": {},
   "outputs": [
    {
     "name": "stdout",
     "output_type": "stream",
     "text": [
      "name\n",
      "pakistan\n",
      "coined\n",
      "choudhry\n",
      "rahmat\n",
      "ali\n",
      "pakistan\n",
      "movement\n",
      "activist\n",
      "january\n",
      "first\n",
      "published\n",
      "originally\n",
      "pakstan\n",
      "pamphlet\n",
      "never\n",
      "using\n",
      "acronym\n",
      "rahmat\n",
      "ali\n",
      "explained\n",
      "composed\n",
      "letter\n",
      "taken\n",
      "name\n",
      "homeland\n",
      "indian\n",
      "asian\n",
      "panjab\n",
      "afghania\n",
      "kashmir\n",
      "sindh\n",
      "baluchistan\n",
      "added\n",
      "pakistan\n",
      "persian\n",
      "urdu\n",
      "word\n",
      "mean\n",
      "land\n",
      "paks\n",
      "spiritually\n",
      "pure\n",
      "clean\n",
      "etymologist\n",
      "note\n",
      "p\n",
      "k\n",
      "pure\n",
      "persian\n",
      "pashto\n",
      "persian\n",
      "suffix\n",
      "stan\n",
      "mean\n",
      "land\n",
      "place\n",
      "rahmat\n",
      "ali\n",
      "concept\n",
      "pakistan\n",
      "related\n",
      "northwestern\n",
      "area\n",
      "indian\n",
      "subcontinent\n",
      "also\n",
      "proposed\n",
      "name\n",
      "banglastan\n",
      "muslim\n",
      "area\n",
      "bengal\n",
      "osmanistan\n",
      "hyderabad\n",
      "state\n",
      "well\n",
      "political\n",
      "federation\n",
      "three\n"
     ]
    }
   ],
   "source": [
    "for i in corpus:\n",
    "    words=nltk.word_tokenize(i)\n",
    "    for word in words:\n",
    "        if word not in set(stopwords.words('english')):\n",
    "            print(lemmatizer.lemmatize(word))"
   ]
  },
  {
   "cell_type": "code",
   "execution_count": null,
   "id": "85c92ea3",
   "metadata": {},
   "outputs": [],
   "source": []
  }
 ],
 "metadata": {
  "kernelspec": {
   "display_name": "Python 3 (ipykernel)",
   "language": "python",
   "name": "python3"
  },
  "language_info": {
   "codemirror_mode": {
    "name": "ipython",
    "version": 3
   },
   "file_extension": ".py",
   "mimetype": "text/x-python",
   "name": "python",
   "nbconvert_exporter": "python",
   "pygments_lexer": "ipython3",
   "version": "3.11.5"
  }
 },
 "nbformat": 4,
 "nbformat_minor": 5
}
